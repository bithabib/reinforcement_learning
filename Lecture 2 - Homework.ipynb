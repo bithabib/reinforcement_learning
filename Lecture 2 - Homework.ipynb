{
 "cells": [
  {
   "cell_type": "markdown",
   "metadata": {},
   "source": [
    "# Homework 1. Measure the accuracy and speed of learning for the following algorithms\n",
    "- `Epsilon Greedy, Epsilon Decreasing, UCB, Thompson Sampling, Policy Gradient`\n",
    "\n",
    "- Note) Use Jupyter notebook (ipynb) file to submit your homework\n",
    "#### 1. Define your performance metric indexes to measure accuracy and speed of learning with, mathematically.\n"
   ]
  },
  {
   "cell_type": "code",
   "execution_count": null,
   "metadata": {},
   "outputs": [],
   "source": []
  },
  {
   "cell_type": "markdown",
   "metadata": {},
   "source": [
    "\n",
    "#### 2. Measure accuracy and speed of learning with and show your numerical results using tables of graphs.\n"
   ]
  },
  {
   "cell_type": "code",
   "execution_count": null,
   "metadata": {},
   "outputs": [],
   "source": []
  },
  {
   "cell_type": "markdown",
   "metadata": {},
   "source": [
    "\n",
    "#### 3. Analyze and discuss the numerical results\n"
   ]
  }
 ],
 "metadata": {
  "language_info": {
   "name": "python"
  }
 },
 "nbformat": 4,
 "nbformat_minor": 2
}
